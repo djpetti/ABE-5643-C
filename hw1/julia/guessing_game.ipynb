{
 "cells": [
  {
   "cell_type": "code",
   "execution_count": 7,
   "id": "f80445da-1262-4abc-b669-3945d1dc911b",
   "metadata": {},
   "outputs": [
    {
     "name": "stdout",
     "output_type": "stream",
     "text": [
      "Guess a number between 1 and 100:\n"
     ]
    },
    {
     "name": "stdin",
     "output_type": "stream",
     "text": [
      "stdin>  50\n"
     ]
    },
    {
     "name": "stdout",
     "output_type": "stream",
     "text": [
      "Too high, guess again:\n"
     ]
    },
    {
     "name": "stdin",
     "output_type": "stream",
     "text": [
      "stdin>  25\n"
     ]
    },
    {
     "name": "stdout",
     "output_type": "stream",
     "text": [
      "Too high, guess again:\n"
     ]
    },
    {
     "name": "stdin",
     "output_type": "stream",
     "text": [
      "stdin>  12\n"
     ]
    },
    {
     "name": "stdout",
     "output_type": "stream",
     "text": [
      "Too high, guess again:\n"
     ]
    },
    {
     "name": "stdin",
     "output_type": "stream",
     "text": [
      "stdin>  6\n"
     ]
    },
    {
     "name": "stdout",
     "output_type": "stream",
     "text": [
      "Too low, guess again:\n"
     ]
    },
    {
     "name": "stdin",
     "output_type": "stream",
     "text": [
      "stdin>  9\n"
     ]
    },
    {
     "name": "stdout",
     "output_type": "stream",
     "text": [
      "You guessed the number! You're a genius!\n"
     ]
    }
   ],
   "source": [
    "# Pick a random number.\n",
    "answer = mod(rand(Int), 100) + 1\n",
    "\n",
    "# Have the user guess it.\n",
    "guess = 0\n",
    "println(\"Guess a number between 1 and 100:\")\n",
    "while guess != answer\n",
    "    guess = readline()\n",
    "    guess = parse(Int, guess)\n",
    "\n",
    "    if guess > answer\n",
    "        println(\"Too high, guess again:\")\n",
    "    elseif guess < answer\n",
    "        println(\"Too low, guess again:\")\n",
    "    else\n",
    "        println(\"You guessed the number! You're a genius!\")\n",
    "    end\n",
    "end"
   ]
  },
  {
   "cell_type": "code",
   "execution_count": null,
   "id": "bb017828-4a70-4ecf-b96e-11e2fcfbe117",
   "metadata": {},
   "outputs": [],
   "source": []
  }
 ],
 "metadata": {
  "kernelspec": {
   "display_name": "Julia 1.10.4",
   "language": "julia",
   "name": "julia-1.10"
  },
  "language_info": {
   "file_extension": ".jl",
   "mimetype": "application/julia",
   "name": "julia",
   "version": "1.10.4"
  }
 },
 "nbformat": 4,
 "nbformat_minor": 5
}
